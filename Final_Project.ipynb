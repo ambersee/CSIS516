{
  "cells": [
    {
      "cell_type": "markdown",
      "metadata": {
        "id": "view-in-github",
        "colab_type": "text"
      },
      "source": [
        "<a href=\"https://colab.research.google.com/github/ambersee/CSIS516/blob/main/Final_Project.ipynb\" target=\"_parent\"><img src=\"https://colab.research.google.com/assets/colab-badge.svg\" alt=\"Open In Colab\"/></a>"
      ]
    },
    {
      "cell_type": "code",
      "source": [
        "pip install react"
      ],
      "metadata": {
        "colab": {
          "base_uri": "https://localhost:8080/"
        },
        "id": "CaPod8nQeyJH",
        "outputId": "890ef656-7857-4882-bd6b-dde24452d227"
      },
      "execution_count": null,
      "outputs": [
        {
          "output_type": "stream",
          "name": "stdout",
          "text": [
            "Collecting react\n",
            "  Downloading react-4.3.0.tar.gz (10 kB)\n",
            "  Preparing metadata (setup.py) ... \u001b[?25l\u001b[?25hdone\n",
            "Requirement already satisfied: requests>=2.5.0 in /usr/local/lib/python3.11/dist-packages (from react) (2.32.3)\n",
            "Collecting optional-django==0.3.0 (from react)\n",
            "  Downloading optional-django-0.3.0.tar.gz (9.8 kB)\n",
            "  Preparing metadata (setup.py) ... \u001b[?25l\u001b[?25hdone\n",
            "Requirement already satisfied: charset-normalizer<4,>=2 in /usr/local/lib/python3.11/dist-packages (from requests>=2.5.0->react) (3.4.1)\n",
            "Requirement already satisfied: idna<4,>=2.5 in /usr/local/lib/python3.11/dist-packages (from requests>=2.5.0->react) (3.10)\n",
            "Requirement already satisfied: urllib3<3,>=1.21.1 in /usr/local/lib/python3.11/dist-packages (from requests>=2.5.0->react) (2.3.0)\n",
            "Requirement already satisfied: certifi>=2017.4.17 in /usr/local/lib/python3.11/dist-packages (from requests>=2.5.0->react) (2025.1.31)\n",
            "Building wheels for collected packages: react, optional-django\n",
            "  Building wheel for react (setup.py) ... \u001b[?25l\u001b[?25hdone\n",
            "  Created wheel for react: filename=react-4.3.0-py3-none-any.whl size=4839 sha256=76a9be26eaf256fc9dff4fe64ccbfda331672edbcb48489f2f3efedf7a828ae1\n",
            "  Stored in directory: /root/.cache/pip/wheels/d1/e4/5d/45c6707d8f0b59240ad3821936ffc9f0b8a7dc18d6aaf5db06\n",
            "  Building wheel for optional-django (setup.py) ... \u001b[?25l\u001b[?25hdone\n",
            "  Created wheel for optional-django: filename=optional_django-0.3.0-py3-none-any.whl size=10537 sha256=756756714558124f868355918393ce28c78b276d00d75c6ceafa3350587ddda3\n",
            "  Stored in directory: /root/.cache/pip/wheels/5b/c1/35/ec2685cbe2f80f1dc0472cdfdb71abb8e28f82ce53e7d9a981\n",
            "Successfully built react optional-django\n",
            "Installing collected packages: optional-django, react\n",
            "Successfully installed optional-django-0.3.0 react-4.3.0\n"
          ]
        }
      ]
    },
    {
      "cell_type": "code",
      "source": [
        "pip install django"
      ],
      "metadata": {
        "colab": {
          "base_uri": "https://localhost:8080/"
        },
        "id": "qlHaKn0NfmlP",
        "outputId": "602e8ec4-f61c-46ee-b282-07f819332968"
      },
      "execution_count": null,
      "outputs": [
        {
          "output_type": "stream",
          "name": "stdout",
          "text": [
            "Collecting django\n",
            "  Downloading Django-5.1.6-py3-none-any.whl.metadata (4.2 kB)\n",
            "Collecting asgiref<4,>=3.8.1 (from django)\n",
            "  Downloading asgiref-3.8.1-py3-none-any.whl.metadata (9.3 kB)\n",
            "Requirement already satisfied: sqlparse>=0.3.1 in /usr/local/lib/python3.11/dist-packages (from django) (0.5.3)\n",
            "Downloading Django-5.1.6-py3-none-any.whl (8.3 MB)\n",
            "\u001b[2K   \u001b[90m━━━━━━━━━━━━━━━━━━━━━━━━━━━━━━━━━━━━━━━━\u001b[0m \u001b[32m8.3/8.3 MB\u001b[0m \u001b[31m50.7 MB/s\u001b[0m eta \u001b[36m0:00:00\u001b[0m\n",
            "\u001b[?25hDownloading asgiref-3.8.1-py3-none-any.whl (23 kB)\n",
            "Installing collected packages: asgiref, django\n",
            "Successfully installed asgiref-3.8.1 django-5.1.6\n"
          ]
        }
      ]
    },
    {
      "cell_type": "code",
      "source": [
        "pip install mysql"
      ],
      "metadata": {
        "colab": {
          "base_uri": "https://localhost:8080/"
        },
        "id": "orFdZiI7fx_w",
        "outputId": "555590a3-69ba-4096-b058-d39ce144963a"
      },
      "execution_count": null,
      "outputs": [
        {
          "output_type": "stream",
          "name": "stdout",
          "text": [
            "Collecting mysql\n",
            "  Downloading mysql-0.0.3-py3-none-any.whl.metadata (746 bytes)\n",
            "Collecting mysqlclient (from mysql)\n",
            "  Downloading mysqlclient-2.2.7.tar.gz (91 kB)\n",
            "\u001b[2K     \u001b[90m━━━━━━━━━━━━━━━━━━━━━━━━━━━━━━━━━━━━━━━━\u001b[0m \u001b[32m91.4/91.4 kB\u001b[0m \u001b[31m2.2 MB/s\u001b[0m eta \u001b[36m0:00:00\u001b[0m\n",
            "\u001b[?25h  Installing build dependencies ... \u001b[?25l\u001b[?25hdone\n",
            "  Getting requirements to build wheel ... \u001b[?25l\u001b[?25hdone\n",
            "  Preparing metadata (pyproject.toml) ... \u001b[?25l\u001b[?25hdone\n",
            "Downloading mysql-0.0.3-py3-none-any.whl (1.2 kB)\n",
            "Building wheels for collected packages: mysqlclient\n",
            "  Building wheel for mysqlclient (pyproject.toml) ... \u001b[?25l\u001b[?25hdone\n",
            "  Created wheel for mysqlclient: filename=mysqlclient-2.2.7-cp311-cp311-linux_x86_64.whl size=127526 sha256=27f763a888e3d85b2b4902787e5091324f45a8d64795b1e1e0a1d300ac5111b5\n",
            "  Stored in directory: /root/.cache/pip/wheels/cd/5f/fb/dbe9e6e7e1e24f9e73164c77b5fdc19bd36240425835c0e635\n",
            "Successfully built mysqlclient\n",
            "Installing collected packages: mysqlclient, mysql\n",
            "Successfully installed mysql-0.0.3 mysqlclient-2.2.7\n"
          ]
        }
      ]
    },
    {
      "cell_type": "code",
      "source": [
        "pip install django mysqlclient djangorestframework"
      ],
      "metadata": {
        "colab": {
          "base_uri": "https://localhost:8080/"
        },
        "id": "fcfSMpUF3nX9",
        "outputId": "364c54e3-97a1-45d3-a78d-122daa78a3ca"
      },
      "execution_count": null,
      "outputs": [
        {
          "output_type": "stream",
          "name": "stdout",
          "text": [
            "Collecting django\n",
            "  Using cached Django-5.1.6-py3-none-any.whl.metadata (4.2 kB)\n",
            "Collecting mysqlclient\n",
            "  Using cached mysqlclient-2.2.7.tar.gz (91 kB)\n",
            "  Installing build dependencies ... \u001b[?25l\u001b[?25hdone\n",
            "  Getting requirements to build wheel ... \u001b[?25l\u001b[?25hdone\n",
            "  Preparing metadata (pyproject.toml) ... \u001b[?25l\u001b[?25hdone\n",
            "Collecting djangorestframework\n",
            "  Using cached djangorestframework-3.15.2-py3-none-any.whl.metadata (10 kB)\n",
            "Collecting asgiref<4,>=3.8.1 (from django)\n",
            "  Downloading asgiref-3.8.1-py3-none-any.whl.metadata (9.3 kB)\n",
            "Requirement already satisfied: sqlparse>=0.3.1 in /usr/local/lib/python3.11/dist-packages (from django) (0.5.3)\n",
            "Downloading Django-5.1.6-py3-none-any.whl (8.3 MB)\n",
            "\u001b[2K   \u001b[90m━━━━━━━━━━━━━━━━━━━━━━━━━━━━━━━━━━━━━━━━\u001b[0m \u001b[32m8.3/8.3 MB\u001b[0m \u001b[31m60.3 MB/s\u001b[0m eta \u001b[36m0:00:00\u001b[0m\n",
            "\u001b[?25hDownloading djangorestframework-3.15.2-py3-none-any.whl (1.1 MB)\n",
            "\u001b[2K   \u001b[90m━━━━━━━━━━━━━━━━━━━━━━━━━━━━━━━━━━━━━━━━\u001b[0m \u001b[32m1.1/1.1 MB\u001b[0m \u001b[31m55.7 MB/s\u001b[0m eta \u001b[36m0:00:00\u001b[0m\n",
            "\u001b[?25hDownloading asgiref-3.8.1-py3-none-any.whl (23 kB)\n",
            "Building wheels for collected packages: mysqlclient\n",
            "  Building wheel for mysqlclient (pyproject.toml) ... \u001b[?25l\u001b[?25hdone\n",
            "  Created wheel for mysqlclient: filename=mysqlclient-2.2.7-cp311-cp311-linux_x86_64.whl size=127529 sha256=94ff62b7c697188b291dc6250fa379affd5e4aa48f20b5d3d3b441506b65f00d\n",
            "  Stored in directory: /root/.cache/pip/wheels/cd/5f/fb/dbe9e6e7e1e24f9e73164c77b5fdc19bd36240425835c0e635\n",
            "Successfully built mysqlclient\n",
            "Installing collected packages: mysqlclient, asgiref, django, djangorestframework\n",
            "Successfully installed asgiref-3.8.1 django-5.1.6 djangorestframework-3.15.2 mysqlclient-2.2.7\n"
          ]
        }
      ]
    },
    {
      "cell_type": "code",
      "source": [
        "# prompt: virtual environment\n",
        "\n",
        "# Create a virtual environment (replace 'myenv' with your desired environment name)\n",
        "!python3 -m venv myenv\n",
        "\n",
        "# Activate the virtual environment\n",
        "!source myenv/bin/activate\n",
        "\n",
        "# Install the required packages within the virtual environment\n",
        "!pip install react\n",
        "!pip install django\n",
        "!pip install mysql\n",
        "!pip install django mysqlclient djangorestframework\n"
      ],
      "metadata": {
        "colab": {
          "base_uri": "https://localhost:8080/"
        },
        "id": "fRFPFGly41F5",
        "outputId": "51710adc-26a9-49ee-a2ac-417e2fe0fe3b"
      },
      "execution_count": null,
      "outputs": [
        {
          "output_type": "stream",
          "name": "stdout",
          "text": [
            "Error: Command '['/content/myenv/bin/python3', '-m', 'ensurepip', '--upgrade', '--default-pip']' returned non-zero exit status 1.\n",
            "/bin/bash: line 1: myenv/bin/activate: No such file or directory\n",
            "Collecting react\n",
            "  Downloading react-4.3.0.tar.gz (10 kB)\n",
            "  Preparing metadata (setup.py) ... \u001b[?25l\u001b[?25hdone\n",
            "Requirement already satisfied: requests>=2.5.0 in /usr/local/lib/python3.11/dist-packages (from react) (2.32.3)\n",
            "Collecting optional-django==0.3.0 (from react)\n",
            "  Downloading optional-django-0.3.0.tar.gz (9.8 kB)\n",
            "  Preparing metadata (setup.py) ... \u001b[?25l\u001b[?25hdone\n",
            "Requirement already satisfied: charset-normalizer<4,>=2 in /usr/local/lib/python3.11/dist-packages (from requests>=2.5.0->react) (3.4.1)\n",
            "Requirement already satisfied: idna<4,>=2.5 in /usr/local/lib/python3.11/dist-packages (from requests>=2.5.0->react) (3.10)\n",
            "Requirement already satisfied: urllib3<3,>=1.21.1 in /usr/local/lib/python3.11/dist-packages (from requests>=2.5.0->react) (2.3.0)\n",
            "Requirement already satisfied: certifi>=2017.4.17 in /usr/local/lib/python3.11/dist-packages (from requests>=2.5.0->react) (2025.1.31)\n",
            "Building wheels for collected packages: react, optional-django\n",
            "  Building wheel for react (setup.py) ... \u001b[?25l\u001b[?25hdone\n",
            "  Created wheel for react: filename=react-4.3.0-py3-none-any.whl size=4839 sha256=bab59097aa012f42034ed4947d9230fd234e039d011f951c3f3f01bb3118a456\n",
            "  Stored in directory: /root/.cache/pip/wheels/d1/e4/5d/45c6707d8f0b59240ad3821936ffc9f0b8a7dc18d6aaf5db06\n",
            "  Building wheel for optional-django (setup.py) ... \u001b[?25l\u001b[?25hdone\n",
            "  Created wheel for optional-django: filename=optional_django-0.3.0-py3-none-any.whl size=10537 sha256=1ff220b3cd1caf104d937ece3b32324908ac2eafe48849218651f690a38bd79d\n",
            "  Stored in directory: /root/.cache/pip/wheels/5b/c1/35/ec2685cbe2f80f1dc0472cdfdb71abb8e28f82ce53e7d9a981\n",
            "Successfully built react optional-django\n",
            "Installing collected packages: optional-django, react\n",
            "Successfully installed optional-django-0.3.0 react-4.3.0\n",
            "Requirement already satisfied: django in /usr/local/lib/python3.11/dist-packages (5.1.6)\n",
            "Requirement already satisfied: asgiref<4,>=3.8.1 in /usr/local/lib/python3.11/dist-packages (from django) (3.8.1)\n",
            "Requirement already satisfied: sqlparse>=0.3.1 in /usr/local/lib/python3.11/dist-packages (from django) (0.5.3)\n",
            "Collecting mysql\n",
            "  Downloading mysql-0.0.3-py3-none-any.whl.metadata (746 bytes)\n",
            "Requirement already satisfied: mysqlclient in /usr/local/lib/python3.11/dist-packages (from mysql) (2.2.7)\n",
            "Downloading mysql-0.0.3-py3-none-any.whl (1.2 kB)\n",
            "Installing collected packages: mysql\n",
            "Successfully installed mysql-0.0.3\n",
            "Requirement already satisfied: django in /usr/local/lib/python3.11/dist-packages (5.1.6)\n",
            "Requirement already satisfied: mysqlclient in /usr/local/lib/python3.11/dist-packages (2.2.7)\n",
            "Requirement already satisfied: djangorestframework in /usr/local/lib/python3.11/dist-packages (3.15.2)\n",
            "Requirement already satisfied: asgiref<4,>=3.8.1 in /usr/local/lib/python3.11/dist-packages (from django) (3.8.1)\n",
            "Requirement already satisfied: sqlparse>=0.3.1 in /usr/local/lib/python3.11/dist-packages (from django) (0.5.3)\n"
          ]
        }
      ]
    },
    {
      "cell_type": "code",
      "source": [
        "# prompt: activate virtual environment\n",
        "\n",
        "# Create a virtual environment (replace 'myenv' with your desired environment name)\n",
        "!python3 -m venv myenv\n",
        "\n",
        "# Activate the virtual environment\n",
        "!source myenv/bin/activate\n",
        "\n",
        "# Install the required packages within the virtual environment\n",
        "!pip install react\n",
        "!pip install django\n",
        "!pip install mysql-connector-python  # Use mysql-connector-python instead of just 'mysql'\n",
        "!pip install django mysqlclient djangorestframework\n"
      ],
      "metadata": {
        "colab": {
          "base_uri": "https://localhost:8080/"
        },
        "id": "E09Z7kom8JrR",
        "outputId": "5d16bb97-424c-403a-ba7f-9d92144acec9"
      },
      "execution_count": null,
      "outputs": [
        {
          "output_type": "stream",
          "name": "stdout",
          "text": [
            "Error: Command '['/content/myenv/bin/python3', '-m', 'ensurepip', '--upgrade', '--default-pip']' returned non-zero exit status 1.\n",
            "/bin/bash: line 1: myenv/bin/activate: No such file or directory\n",
            "Requirement already satisfied: react in /usr/local/lib/python3.11/dist-packages (4.3.0)\n",
            "Requirement already satisfied: requests>=2.5.0 in /usr/local/lib/python3.11/dist-packages (from react) (2.32.3)\n",
            "Requirement already satisfied: optional-django==0.3.0 in /usr/local/lib/python3.11/dist-packages (from react) (0.3.0)\n",
            "Requirement already satisfied: charset-normalizer<4,>=2 in /usr/local/lib/python3.11/dist-packages (from requests>=2.5.0->react) (3.4.1)\n",
            "Requirement already satisfied: idna<4,>=2.5 in /usr/local/lib/python3.11/dist-packages (from requests>=2.5.0->react) (3.10)\n",
            "Requirement already satisfied: urllib3<3,>=1.21.1 in /usr/local/lib/python3.11/dist-packages (from requests>=2.5.0->react) (2.3.0)\n",
            "Requirement already satisfied: certifi>=2017.4.17 in /usr/local/lib/python3.11/dist-packages (from requests>=2.5.0->react) (2025.1.31)\n",
            "Requirement already satisfied: django in /usr/local/lib/python3.11/dist-packages (5.1.6)\n",
            "Requirement already satisfied: asgiref<4,>=3.8.1 in /usr/local/lib/python3.11/dist-packages (from django) (3.8.1)\n",
            "Requirement already satisfied: sqlparse>=0.3.1 in /usr/local/lib/python3.11/dist-packages (from django) (0.5.3)\n",
            "Collecting mysql-connector-python\n",
            "  Downloading mysql_connector_python-9.2.0-cp311-cp311-manylinux_2_28_x86_64.whl.metadata (6.0 kB)\n",
            "Downloading mysql_connector_python-9.2.0-cp311-cp311-manylinux_2_28_x86_64.whl (34.0 MB)\n",
            "\u001b[2K   \u001b[90m━━━━━━━━━━━━━━━━━━━━━━━━━━━━━━━━━━━━━━━━\u001b[0m \u001b[32m34.0/34.0 MB\u001b[0m \u001b[31m25.4 MB/s\u001b[0m eta \u001b[36m0:00:00\u001b[0m\n",
            "\u001b[?25hInstalling collected packages: mysql-connector-python\n",
            "Successfully installed mysql-connector-python-9.2.0\n",
            "Requirement already satisfied: django in /usr/local/lib/python3.11/dist-packages (5.1.6)\n",
            "Requirement already satisfied: mysqlclient in /usr/local/lib/python3.11/dist-packages (2.2.7)\n",
            "Requirement already satisfied: djangorestframework in /usr/local/lib/python3.11/dist-packages (3.15.2)\n",
            "Requirement already satisfied: asgiref<4,>=3.8.1 in /usr/local/lib/python3.11/dist-packages (from django) (3.8.1)\n",
            "Requirement already satisfied: sqlparse>=0.3.1 in /usr/local/lib/python3.11/dist-packages (from django) (0.5.3)\n"
          ]
        }
      ]
    },
    {
      "cell_type": "code",
      "source": [
        "pip install flask"
      ],
      "metadata": {
        "colab": {
          "base_uri": "https://localhost:8080/"
        },
        "id": "rX1HylE7c56R",
        "outputId": "4c30a31e-0158-468a-8c90-c1b0d3427a0d"
      },
      "execution_count": 1,
      "outputs": [
        {
          "output_type": "stream",
          "name": "stdout",
          "text": [
            "Requirement already satisfied: flask in /usr/local/lib/python3.11/dist-packages (3.1.0)\n",
            "Requirement already satisfied: Werkzeug>=3.1 in /usr/local/lib/python3.11/dist-packages (from flask) (3.1.3)\n",
            "Requirement already satisfied: Jinja2>=3.1.2 in /usr/local/lib/python3.11/dist-packages (from flask) (3.1.5)\n",
            "Requirement already satisfied: itsdangerous>=2.2 in /usr/local/lib/python3.11/dist-packages (from flask) (2.2.0)\n",
            "Requirement already satisfied: click>=8.1.3 in /usr/local/lib/python3.11/dist-packages (from flask) (8.1.8)\n",
            "Requirement already satisfied: blinker>=1.9 in /usr/local/lib/python3.11/dist-packages (from flask) (1.9.0)\n",
            "Requirement already satisfied: MarkupSafe>=2.0 in /usr/local/lib/python3.11/dist-packages (from Jinja2>=3.1.2->flask) (3.0.2)\n"
          ]
        }
      ]
    },
    {
      "cell_type": "code",
      "source": [
        "from flask import Flask, render_template, request, redirect, url_for\n",
        "app = Flask(__name__, template_folder='templates')\n",
        "@app.route('/')\n",
        "def index():\n",
        "    return render_template('index.html')\n",
        "if __name__ == '__main__':\n",
        "    app.run(debug=True)"
      ],
      "metadata": {
        "colab": {
          "base_uri": "https://localhost:8080/"
        },
        "id": "zBFWo6CcdCxU",
        "outputId": "29d2bb31-0605-48a9-a3b1-31eb87136533"
      },
      "execution_count": null,
      "outputs": [
        {
          "output_type": "stream",
          "name": "stdout",
          "text": [
            " * Serving Flask app '__main__'\n",
            " * Debug mode: on\n"
          ]
        },
        {
          "output_type": "stream",
          "name": "stderr",
          "text": [
            "INFO:werkzeug:\u001b[31m\u001b[1mWARNING: This is a development server. Do not use it in a production deployment. Use a production WSGI server instead.\u001b[0m\n",
            " * Running on http://127.0.0.1:5000\n",
            "INFO:werkzeug:\u001b[33mPress CTRL+C to quit\u001b[0m\n",
            "INFO:werkzeug: * Restarting with stat\n"
          ]
        }
      ]
    },
    {
      "cell_type": "code",
      "source": [
        "class BudgetPlanner:\n",
        "    def __init__(self):\n",
        "        self.monthly_income = 0\n",
        "        self.monthly_expenses = {}\n",
        "\n",
        "    def add_monthly_income(self, amount):\n",
        "        self.monthly_income += amount\n",
        "\n",
        "    def add_monthly_expense(self, category, amount):\n",
        "        if category in self.monthly_expenses:\n",
        "            self.monthly_expenses[category] += amount\n",
        "        else:\n",
        "            self.monthly_expenses[category] = amount\n",
        "\n",
        "    def calculate_savings(self):\n",
        "        total_expenses = sum(self.monthly_expenses.values())\n",
        "        savings = self.monthly_income - total_expenses\n",
        "        return savings\n",
        "\n",
        "    def get_monthly_income(self):\n",
        "        return self.monthly_income\n",
        "\n",
        "    def get_monthly_expenses(self):\n",
        "        return self.monthly_expenses\n",
        "\n",
        "    def get_savings(self):\n",
        "        return self.calculate_savings()\n",
        "\n",
        "    def get_total_expenses(self):\n",
        "        return sum(self.monthly_expenses.values())\n",
        "\n",
        "    def get_remaining_income(self):\n",
        "        return self.monthly_income - self.get_total_expenses()\n",
        "\n",
        "    def get_expense_percentage(self, category):\n",
        "        total_expenses = sum(self.monthly_expenses.values())\n",
        "        if total_expenses == 0:\n",
        "            return 0\n",
        "\n",
        "       return (self.monthly_expenses[category] / total_expenses) * 100\n",
        "\n",
        "    def get_expense_categories(self):\n",
        "        return list(self.monthly_expenses.keys())\n",
        "\n",
        "    def reset(self):\n",
        "        self.monthly_income = 0\n",
        "        self.monthly_expenses = {}\n",
        "\n",
        "    if __name__ == '__main__':\n",
        "        planner = BudgetPlanner()\n",
        "\n",
        "        while True:\n",
        "\n",
        "          print(\"\\nBudget Planner Menu:\")\n",
        "          print(\"1. Add Monthly Income\")\n",
        "          print(\"2. Add Monthly Expense\")\n",
        "          print(\"3. Calculate Savings\")\n",
        "          print(\"4. Get Monthly Income\")\n",
        "          print(\"5. Get Monthly Expenses\")\n",
        "          print(\"6. Get Savings\")\n",
        "          print(\"7. Get Total Expenses\")\n",
        "          print(\"8. Get Remaining Income\")\n",
        "          print(\"9. Get Expense Percentage\")\n",
        "          print(\"10. View Expense Categories\")\n",
        "          print(\"11. Reset\")\n",
        "\n",
        "          choice = input(\"Enter your choice (1-11): \")\n",
        "\n",
        "          if choice == '1':\n",
        "              amount = float(input(\"Enter monthly income: \"))\n",
        "              planner.add_monthly_income(amount)"
      ],
      "metadata": {
        "id": "Vj0lTfu5eAef"
      },
      "execution_count": null,
      "outputs": []
    }
  ],
  "metadata": {
    "colab": {
      "provenance": [],
      "authorship_tag": "ABX9TyMiM7sZUcN3M0d9GZZ83PTP",
      "include_colab_link": true
    },
    "kernelspec": {
      "display_name": "Python 3",
      "name": "python3"
    },
    "language_info": {
      "name": "python"
    }
  },
  "nbformat": 4,
  "nbformat_minor": 0
}